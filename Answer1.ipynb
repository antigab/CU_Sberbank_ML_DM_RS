{
 "cells": [
  {
   "cell_type": "code",
   "execution_count": 6,
   "metadata": {
    "collapsed": false
   },
   "outputs": [
    {
     "name": "stdout",
     "output_type": "stream",
     "text": [
      "Названия признаков: ['1', 'crim', 'zn', 'indus', 'chas', 'nox', 'rm', 'age', 'dis', 'rad', 'tax', 'ptratio', 'black', 'lstat', 'crim^2', 'crim zn', 'crim indus', 'crim chas', 'crim nox', 'crim rm', 'crim age', 'crim dis', 'crim rad', 'crim tax', 'crim ptratio', 'crim black', 'crim lstat', 'zn^2', 'zn indus', 'zn chas', 'zn nox', 'zn rm', 'zn age', 'zn dis', 'zn rad', 'zn tax', 'zn ptratio', 'zn black', 'zn lstat', 'indus^2', 'indus chas', 'indus nox', 'indus rm', 'indus age', 'indus dis', 'indus rad', 'indus tax', 'indus ptratio', 'indus black', 'indus lstat', 'chas^2', 'chas nox', 'chas rm', 'chas age', 'chas dis', 'chas rad', 'chas tax', 'chas ptratio', 'chas black', 'chas lstat', 'nox^2', 'nox rm', 'nox age', 'nox dis', 'nox rad', 'nox tax', 'nox ptratio', 'nox black', 'nox lstat', 'rm^2', 'rm age', 'rm dis', 'rm rad', 'rm tax', 'rm ptratio', 'rm black', 'rm lstat', 'age^2', 'age dis', 'age rad', 'age tax', 'age ptratio', 'age black', 'age lstat', 'dis^2', 'dis rad', 'dis tax', 'dis ptratio', 'dis black', 'dis lstat', 'rad^2', 'rad tax', 'rad ptratio', 'rad black', 'rad lstat', 'tax^2', 'tax ptratio', 'tax black', 'tax lstat', 'ptratio^2', 'ptratio black', 'ptratio lstat', 'black^2', 'black lstat', 'lstat^2']\n",
      "Константа: 17.587754\n",
      "{'indus age': 0.0052893880296768659, 'age ptratio': -0.002412123579393249, 'tax lstat': -0.0014396918261503579, 'dis^2': 0.071265114097656831, 'tax': 0.012690056607898775, 'crim black': 7.4548682210813901e-05, 'zn age': 0.00041531805435271333, 'rm age': 0.019344145930004157, 'age tax': 0.00016970861895042652, 'tax ptratio': 0.0045087726534743851, 'age^2': -4.0227529466292823e-05, 'rm rad': -0.081736520342442665, 'nox tax': -0.032948273770117269, 'rad tax': 0.0020830152935720609, 'rad^2': -0.0051022855376414329, 'age black': -0.00048670231309912355, 'rm tax': -0.01062422079689432, 'rm black': 0.015612859501515969, 'zn rad': -0.0054932007789607025, 'rad lstat': -0.0097185357908945568, 'zn tax': 0.00043929708122380926, 'zn^2': 0.00024837595281373352, 'crim tax': 0.00051543799983819053, 'indus ptratio': -0.044120239469011953, 'chas black': -0.00041539822564105752, 'zn ptratio': 0.00034408857810796405, 'crim lstat': 0.0020045143683434258, 'indus lstat': -0.023847097776630251, 'age rad': -4.8032463890117011e-05, 'ptratio^2': -0.035217620402803011, 'crim age': -0.0031597037854246479, 'crim^2': 0.002115399407135763, 'indus tax': 0.00086342649855303808, 'ptratio black': -0.0013945564362407544, 'black^2': -1.7484814213610661e-05, 'tax black': -2.3260727223690776e-05, 'dis tax': -0.0026451481036719421, 'age dis': 0.0013462916008890808, 'zn black': -0.00094803579448112462, 'dis black': -0.0030157019761417134, 'zn rm': 0.038461094055341254, 'indus black': 0.00067354094684937021, 'age lstat': -0.0028677864574166725, 'zn lstat': -0.0044718097253359417, 'indus rad': -0.060566167279994462, 'black lstat': -0.00011858218746104953, 'rm lstat': -0.019336183852875541, 'tax^2': -3.2160494507720841e-05, 'rad black': -8.1776781675742537e-05, 'rad ptratio': 0.047265168121823888, 'zn indus': -0.00012068350983872978, 'crim rad': -0.017490352282046394, 'rm^2': 0.20362859045167034, 'indus^2': 0.014264851080550398, 'lstat^2': 0.031931765055474785, 'chas tax': 0.0046896942847403931}\n"
     ]
    }
   ],
   "source": [
    "import pandas as pd\n",
    "import numpy as np\n",
    "from sklearn.preprocessing import PolynomialFeatures\n",
    "from sklearn.linear_model import Lasso\n",
    "\n",
    "boston = pd.read_csv('boston.csv', sep=',', header=0, index_col=0)\n",
    "boston = boston.astype(float)\n",
    "target_column = boston.columns[-1]\n",
    "\n",
    "X = boston.drop(target_column, axis=1)\n",
    "y = boston[target_column]\n",
    "\n",
    "poly = PolynomialFeatures(2)\n",
    "X_2 = poly.fit_transform(X) # X имеет тип pandas DataFrame, а X_2 - numpy array, поэтому имена признаков в X_2\n",
    "# не сохраняются\n",
    "feature_names = poly.get_feature_names(boston.columns[:-1]) # После добавления полиномиальных признаков, чтобы получить\n",
    "# список имен всех полученных признаков достаточно для созданной модели полиномизации (poly) вызвать метод\n",
    "# get_feature_names, на вход которому подать список имен исходных признаков (все, за исключением имени последнего столбца из\n",
    "# таблицы boston, так как последний столбец - целевая переменная)\n",
    "# Если использовать другие формы преобразованния признаков, то нужно самостоятельно создавать список имен переменных\n",
    "print('Названия признаков: {}'.format(feature_names))\n",
    "\n",
    "# Обучим, например Lasso регрессию с параметрами по умолчанию (кроме параметра fit_intercept)\n",
    "lasso_reg = Lasso(fit_intercept=True) # Если fit_intercept=True, в модели будет константа, если fit_intercept=False, то нет.\n",
    "# Так же и для Ridge, и linearRegression. Какое значение используется по умолчанию, необходимо уточнять в документации.\n",
    "lasso_reg.fit(X_2, y)\n",
    "\n",
    "intercept = lasso_reg.intercept_ # константа в модели, если fit_intercept=True\n",
    "print('Константа: %f' % intercept)\n",
    "coefs = lasso_reg.coef_ # вектор коэффициентов\n",
    "name_coef = {feature_names[i]: coefs[i] for i in range(X_2.shape[1])} # словарь вида \"имя переменной\": значение коэффициента\n",
    "name_coef_not_null = {feature_names[i]: coefs[i] for i in range(X_2.shape[1]) if coefs[i] != 0}\n",
    "# то же самое, но только для коэффициентов не равных 0\n",
    "print(name_coef_not_null)\n",
    "\n",
    "pd.Series(name_coef).to_csv('results.csv', sep=',') # в файл results.csv будут записаны имена признаков\n",
    "# и значени соответствующих коэффициентов\n",
    "\n",
    "pd.Series(name_coef.update({'1': intercept})).to_csv('results_with_intercept.csv', sep=',')\n",
    "# то же самое с добавлением константы"
   ]
  },
  {
   "cell_type": "code",
   "execution_count": null,
   "metadata": {
    "collapsed": true
   },
   "outputs": [],
   "source": []
  }
 ],
 "metadata": {
  "anaconda-cloud": {},
  "kernelspec": {
   "display_name": "Python [py27]",
   "language": "python",
   "name": "Python [py27]"
  },
  "language_info": {
   "codemirror_mode": {
    "name": "ipython",
    "version": 2
   },
   "file_extension": ".py",
   "mimetype": "text/x-python",
   "name": "python",
   "nbconvert_exporter": "python",
   "pygments_lexer": "ipython2",
   "version": "2.7.14"
  }
 },
 "nbformat": 4,
 "nbformat_minor": 0
}
